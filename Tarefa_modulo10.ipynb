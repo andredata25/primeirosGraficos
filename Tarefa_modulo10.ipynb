{
  "metadata": {
    "kernelspec": {
      "name": "python",
      "display_name": "Python (Pyodide)",
      "language": "python"
    },
    "language_info": {
      "codemirror_mode": {
        "name": "python",
        "version": 3
      },
      "file_extension": ".py",
      "mimetype": "text/x-python",
      "name": "python",
      "nbconvert_exporter": "python",
      "pygments_lexer": "ipython3",
      "version": "3.8"
    }
  },
  "nbformat_minor": 5,
  "nbformat": 4,
  "cells": [
    {
      "id": "430e8fb4-3d35-4990-9193-3b66242291c6",
      "cell_type": "code",
      "source": "import pandas as pd\nimport matplotlib.pyplot as plt\nimport seaborn as sns\n\ndf = pd.read_csv('ecommerce_preparados.csv')\nprint(df.head().to_string())\n\n# Gráfico de histograma para visualizar a frequência dos preços\nplt.figure(figsize=(10, 6))\nplt.hist(df['Preço'], bins=50, color='green', alpha=0.8)\nplt.title('Gráfico de Histograma\\nDistribuição de Preços')\nplt.xlabel('Preço')\nplt.xticks(ticks=range(0, int(df['Preço'].max())+500, 50))\nplt.ylabel('Frequência')\nplt.grid(True)\nplt.show()\n\n# Gráfico de densidade dos preços\nplt.figure(figsize=(10, 6))\nsns.kdeplot(df['Preço'], fill=True, color='#863291')\nplt.title('Gráfico de Densidade\\nDensidade dos Preços')\nplt.xlabel('Preços')\nplt.show()\n\n# Gráfico de Dispersão com as notas e o número de avaliações\nsns.jointplot(x='Nota', y='N_Avaliações', data=df, kind='scatter')\nplt.show()\n\n# Mapa de Calor entre Notas e o Número de avaliações\nsns.heatmap(df[['Nota', 'N_Avaliações']].corr(), annot=True, cmap='coolwarm')\nplt.title('Mapa de Calor\\nCorrelação Nota e Avaliações')\nplt.show()\n\n# Antes de criar o mapa será filtrado os gêneros para os que compõem 99,4% do total das vendas\ngeneros_desejados = ['Feminino', 'Masculino', 'Bebês', 'Sem gênero', 'Meninas', 'Meninos', 'Sem gênero infantil']\ndf_genero_filtrado = df[df['Gênero'].isin(generos_desejados)]\n\nx = df_genero_filtrado['Gênero'].value_counts().index\ny = df_genero_filtrado['Gênero'].value_counts().values\n\n# Gráfico de barras para mostrar as vendas por gênero\nplt.figure(figsize=(10, 6))\nplt.bar(x, y, color='#455eba')\nplt.title('Gráfico de Barras\\nDivisão das vendas por Gênero')\nplt.xlabel('Gênero')\nplt.ylabel('Quantidade')\nplt.xticks(rotation=15)\nplt.show()\n\n# Gráfico de pizza para mostrar a porcentagem de vendas por gênero\nplt.figure(figsize=(10, 6))\nplt.pie(y, labels=x, autopct='%.1f%%', startangle=0)\nplt.title('Gráfico Pizza\\nDistribuição das vendas por Gênero')\nplt.show()\n\n# Gráfico de Regressão\nsns.regplot(x='Preço_MinMax', y='Desconto_MinMax', data=df, color='#278f65', scatter_kws={'alpha': 0.5, 'color': '#34c289'})\nplt.title('Mapa de Regressão\\nRelação entre Preço e Desconto')\nplt.xlabel('Preço')\nplt.ylabel('Desconto')\nplt.show()",
      "metadata": {
        "trusted": true
      },
      "outputs": [
        {
          "name": "stderr",
          "output_type": "stream",
          "text": "Matplotlib is building the font cache; this may take a moment.\n"
        },
        {
          "ename": "<class 'ModuleNotFoundError'>",
          "evalue": "No module named 'seaborn'",
          "traceback": [
            "\u001b[0;31m---------------------------------------------------------------------------\u001b[0m",
            "\u001b[0;31mModuleNotFoundError\u001b[0m                       Traceback (most recent call last)",
            "Cell \u001b[0;32mIn[1], line 3\u001b[0m\n\u001b[1;32m      1\u001b[0m \u001b[38;5;28;01mimport\u001b[39;00m \u001b[38;5;21;01mpandas\u001b[39;00m \u001b[38;5;28;01mas\u001b[39;00m \u001b[38;5;21;01mpd\u001b[39;00m\n\u001b[1;32m      2\u001b[0m \u001b[38;5;28;01mimport\u001b[39;00m \u001b[38;5;21;01mmatplotlib\u001b[39;00m\u001b[38;5;21;01m.\u001b[39;00m\u001b[38;5;21;01mpyplot\u001b[39;00m \u001b[38;5;28;01mas\u001b[39;00m \u001b[38;5;21;01mplt\u001b[39;00m\n\u001b[0;32m----> 3\u001b[0m \u001b[38;5;28;01mimport\u001b[39;00m \u001b[38;5;21;01mseaborn\u001b[39;00m \u001b[38;5;28;01mas\u001b[39;00m \u001b[38;5;21;01msns\u001b[39;00m\n\u001b[1;32m      5\u001b[0m df \u001b[38;5;241m=\u001b[39m pd\u001b[38;5;241m.\u001b[39mread_csv(\u001b[38;5;124m'\u001b[39m\u001b[38;5;124mecommerce_preparados.csv\u001b[39m\u001b[38;5;124m'\u001b[39m)\n\u001b[1;32m      6\u001b[0m \u001b[38;5;28mprint\u001b[39m(df\u001b[38;5;241m.\u001b[39mhead()\u001b[38;5;241m.\u001b[39mto_string())\n",
            "\u001b[0;31mModuleNotFoundError\u001b[0m: No module named 'seaborn'"
          ],
          "output_type": "error"
        }
      ],
      "execution_count": 1
    }
  ]
}