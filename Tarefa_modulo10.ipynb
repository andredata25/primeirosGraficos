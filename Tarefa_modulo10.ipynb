{
  "metadata": {
    "kernelspec": {
      "name": "python",
      "display_name": "Python (Pyodide)",
      "language": "python"
    },
    "language_info": {
      "codemirror_mode": {
        "name": "python",
        "version": 3
      },
      "file_extension": ".py",
      "mimetype": "text/x-python",
      "name": "python",
      "nbconvert_exporter": "python",
      "pygments_lexer": "ipython3",
      "version": "3.8"
    }
  },
  "nbformat_minor": 5,
  "nbformat": 4,
  "cells": [
    {
      "id": "78393e42-d1b9-4903-b243-221cd6342472",
      "cell_type": "code",
      "source": "import pandas as pd\nimport matplotlib.pyplot as plt\nimport seaborn as sns\n\ndf = pd.read_csv('ecommerce_preparados.csv')\nprint(df.head().to_string())\n\n# Gráfico de histograma para visualizar a frequência dos preços\nplt.figure(figsize=(10, 6))\nplt.hist(df['Preço'], bins=50, color='green', alpha=0.8)\nplt.title('Gráfico de Histograma\\nDistribuição de Preços')\nplt.xlabel('Preço')\nplt.xticks(ticks=range(0, int(df['Preço'].max())+500, 50))\nplt.ylabel('Frequência')\nplt.grid(True)\nplt.show()\n\n# Gráfico de densidade dos preços\nplt.figure(figsize=(10, 6))\nsns.kdeplot(df['Preço'], fill=True, color='#863291')\nplt.title('Gráfico de Densidade\\nDensidade dos Preços')\nplt.xlabel('Preços')\nplt.show()\n\n# Gráfico de Dispersão com as notas e o número de avaliações\nsns.jointplot(x='Nota', y='N_Avaliações', data=df, kind='scatter')\nplt.show()\n\n# Mapa de Calor entre Notas e o Número de avaliações\nsns.heatmap(df[['Nota', 'N_Avaliações']].corr(), annot=True, cmap='coolwarm')\nplt.title('Mapa de Calor\\nCorrelação Nota e Avaliações')\nplt.show()\n\n# Antes de criar o mapa será filtrado os gêneros para os que compõem 99,4% do total das vendas\ngeneros_desejados = ['Feminino', 'Masculino', 'Bebês', 'Sem gênero', 'Meninas', 'Meninos', 'Sem gênero infantil']\ndf_genero_filtrado = df[df['Gênero'].isin(generos_desejados)]\n\nx = df_genero_filtrado['Gênero'].value_counts().index\ny = df_genero_filtrado['Gênero'].value_counts().values\n\n# Gráfico de barras para mostrar as vendas por gênero\nplt.figure(figsize=(10, 6))\nplt.bar(x, y, color='#455eba')\nplt.title('Gráfico de Barras\\nDivisão das vendas por Gênero')\nplt.xlabel('Gênero')\nplt.ylabel('Quantidade')\nplt.xticks(rotation=15)\nplt.show()\n\n# Gráfico de pizza para mostrar a porcentagem de vendas por gênero\nplt.figure(figsize=(10, 6))\nplt.pie(y, labels=x, autopct='%.1f%%', startangle=0)\nplt.title('Gráfico Pizza\\nDistribuição das vendas por Gênero')\nplt.show()\n\n# Gráfico de Regressão\nsns.regplot(x='Preço_MinMax', y='Desconto_MinMax', data=df, color='#278f65', scatter_kws={'alpha': 0.5, 'color': '#34c289'})\nplt.title('Mapa de Regressão\\nRelação entre Preço e Desconto')\nplt.xlabel('Preço')\nplt.ylabel('Desconto')\nplt.show()\n",
      "metadata": {
        "trusted": true
      },
      "outputs": [],
      "execution_count": null
    }
  ]
}